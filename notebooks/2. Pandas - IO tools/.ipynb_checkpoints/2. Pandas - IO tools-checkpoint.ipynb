{
 "cells": [
  {
   "cell_type": "markdown",
   "metadata": {},
   "source": [
    "# 2. Pandas - IO tools"
   ]
  },
  {
   "cell_type": "code",
   "execution_count": null,
   "metadata": {
    "collapsed": false
   },
   "outputs": [],
   "source": [
    "%pylab\n",
    "from pandas import Series, DataFrame\n",
    "import pandas as pd"
   ]
  },
  {
   "cell_type": "markdown",
   "metadata": {},
   "source": [
    "## 讀寫本文格式的數據"
   ]
  },
  {
   "cell_type": "markdown",
   "metadata": {
    "collapsed": true
   },
   "source": [
    "將text轉換為DataFrame的函數，其選項分為:\n",
    "- 索引\n",
    "- 類型推斷 和 數據轉換\n",
    "- 日期解析\n",
    "- 佚代\n",
    "- 不規整數據問題"
   ]
  },
  {
   "cell_type": "markdown",
   "metadata": {},
   "source": [
    "類型推斷(type inference)是最重要的功能之一，不需要指定列的資料型態"
   ]
  },
  {
   "cell_type": "code",
   "execution_count": null,
   "metadata": {
    "collapsed": false
   },
   "outputs": [],
   "source": [
    "!cat ex1.csv"
   ]
  },
  {
   "cell_type": "code",
   "execution_count": null,
   "metadata": {
    "collapsed": false
   },
   "outputs": [],
   "source": [
    "!type ex1.csv"
   ]
  },
  {
   "cell_type": "code",
   "execution_count": null,
   "metadata": {
    "collapsed": false
   },
   "outputs": [],
   "source": [
    "# read_csv 讀入 csv檔案\n",
    "df = pd.read_csv('ex1.csv')\n",
    "df"
   ]
  },
  {
   "cell_type": "code",
   "execution_count": null,
   "metadata": {
    "collapsed": false
   },
   "outputs": [],
   "source": [
    "# 也可以讀入table，不過需要指定分隔符號\n",
    "df = pd.read_table('ex1.csv', sep = ',')\n",
    "df"
   ]
  },
  {
   "cell_type": "code",
   "execution_count": null,
   "metadata": {
    "collapsed": false
   },
   "outputs": [],
   "source": [
    "# 沒有欄位名稱列的檔案\n",
    "!type ex2.csv"
   ]
  },
  {
   "cell_type": "code",
   "execution_count": null,
   "metadata": {
    "collapsed": false
   },
   "outputs": [],
   "source": [
    "# 預設會把第一列當作 欄位名稱列\n",
    "df = pd.read_csv('ex2.csv', )\n",
    "df"
   ]
  },
  {
   "cell_type": "code",
   "execution_count": null,
   "metadata": {
    "collapsed": false
   },
   "outputs": [],
   "source": [
    "# 標示沒有欄位名稱列\n",
    "df = pd.read_csv('ex2.csv', header = None)\n",
    "df"
   ]
  },
  {
   "cell_type": "code",
   "execution_count": null,
   "metadata": {
    "collapsed": false
   },
   "outputs": [],
   "source": [
    "# 自定義 欄位名稱\n",
    "fields = ['a', 'b', 'c', 'd', 'message']\n",
    "df = pd.read_csv('ex2.csv', names = fields)\n",
    "df"
   ]
  },
  {
   "cell_type": "code",
   "execution_count": null,
   "metadata": {
    "collapsed": false
   },
   "outputs": [],
   "source": [
    "# 可以 使用 index_col 參數，將某一欄設定為DataFrame的索引\n",
    "fields = ['a', 'b', 'c', 'd', 'message']\n",
    "df = pd.read_csv('ex2.csv', names = fields, index_col = 'message')\n",
    "df"
   ]
  },
  {
   "cell_type": "code",
   "execution_count": null,
   "metadata": {
    "collapsed": false
   },
   "outputs": [],
   "source": [
    "# 可以 使用 index_col 參數，將多個欄設定為DataFrame的層次化索引 \n",
    "!type ex3.csv\n",
    "df = pd.read_csv('ex3.csv', index_col = ['key1', 'key2'])\n",
    "df"
   ]
  },
  {
   "cell_type": "code",
   "execution_count": null,
   "metadata": {
    "collapsed": false
   },
   "outputs": [],
   "source": [
    "# 如果不是以固定的分隔符號來分隔字段，可以用 read_table + regex 作為 sep參數\n",
    "# 由於列名比資料列的數量少，因此read_table推斷第一列應該是DataFrame的索引\n",
    "# 以不定數量的空白做分隔\n",
    "!type \"ex3 - 1.csv\"  \n",
    "df = pd.read_table('ex3 - 1.csv', sep = '\\s+')\n",
    "df"
   ]
  },
  {
   "cell_type": "code",
   "execution_count": null,
   "metadata": {
    "collapsed": false
   },
   "outputs": [],
   "source": [
    "# 讀檔時，可以用 skiprows 來跳過指定的 rows\n",
    "!type ex4.csv\n",
    "df = pd.read_csv('ex4.csv', skiprows = [0, 2, 3], index_col = 'message')\n",
    "df"
   ]
  },
  {
   "cell_type": "code",
   "execution_count": null,
   "metadata": {
    "collapsed": false
   },
   "outputs": [],
   "source": [
    "# 缺失數據的處理\n",
    "# read_csv 會自動判斷，然後以NaN標示缺失數據的位置\n",
    "!type ex5.csv\n",
    "df = pd.read_csv('ex5.csv', index_col = 'something')\n",
    "df"
   ]
  },
  {
   "cell_type": "code",
   "execution_count": null,
   "metadata": {
    "collapsed": false
   },
   "outputs": [],
   "source": [
    "# isnull()，判斷元素是否為NaN\n",
    "df.isnull()"
   ]
  },
  {
   "cell_type": "code",
   "execution_count": null,
   "metadata": {
    "collapsed": false
   },
   "outputs": [],
   "source": [
    "pd.isnull(df)"
   ]
  },
  {
   "cell_type": "code",
   "execution_count": null,
   "metadata": {
    "collapsed": false
   },
   "outputs": [],
   "source": [
    "# na_values 參數可指定用於標示缺失數據的字串\n",
    "df = pd.read_csv('ex5.csv', index_col = 'something', na_values = ['NULL'])\n",
    "df"
   ]
  },
  {
   "cell_type": "code",
   "execution_count": null,
   "metadata": {
    "collapsed": false
   },
   "outputs": [],
   "source": [
    "# 為各列分別指定不同的 缺失值標示字串\n",
    "sentinels = {'message': ['foo', 'NA'], 'something': ['two']}\n",
    "df = pd.read_csv('ex5.csv', na_values = sentinels)\n",
    "df"
   ]
  },
  {
   "cell_type": "markdown",
   "metadata": {},
   "source": [
    "### 逐塊讀取文本文件"
   ]
  },
  {
   "cell_type": "code",
   "execution_count": null,
   "metadata": {
    "collapsed": false
   },
   "outputs": [],
   "source": [
    "# 設定 nrows參數，設定讀入的列數\n",
    "!type ex5.csv\n",
    "df = pd.read_csv('ex5.csv', nrows = 2)\n",
    "df"
   ]
  },
  {
   "cell_type": "code",
   "execution_count": null,
   "metadata": {
    "collapsed": false
   },
   "outputs": [],
   "source": [
    "# 如果要逐塊讀取，則設定chunksize\n",
    "!type ex5.csv\n",
    "chunker = pd.read_csv('ex5.csv', chunksize = 2)\n",
    "chunker"
   ]
  },
  {
   "cell_type": "code",
   "execution_count": null,
   "metadata": {
    "collapsed": false
   },
   "outputs": [],
   "source": [
    "tot = Series([])\n",
    "for piece in chunker:\n",
    "    tot = tot.add(piece['something'].value_counts(), fill_value = 0)\n",
    "tot = tot.sort_values(ascending = False)\n",
    "tot"
   ]
  },
  {
   "cell_type": "markdown",
   "metadata": {},
   "source": [
    "## 將數據寫出到文本格式"
   ]
  },
  {
   "cell_type": "code",
   "execution_count": null,
   "metadata": {
    "collapsed": false
   },
   "outputs": [],
   "source": [
    "!type ex5.csv\n",
    "df = pd.read_csv('ex5.csv')\n",
    "df"
   ]
  },
  {
   "cell_type": "code",
   "execution_count": null,
   "metadata": {
    "collapsed": false
   },
   "outputs": [],
   "source": [
    "# 以 to_csv() 將數據寫出到一個 以逗號分隔 的檔案中\n",
    "df.to_csv('ex5-1.csv')\n",
    "!type \"ex5-1.csv\""
   ]
  },
  {
   "cell_type": "code",
   "execution_count": null,
   "metadata": {
    "collapsed": false
   },
   "outputs": [],
   "source": [
    "# 寫出的時候，可以設定 sep 參數 指定其他的分隔符號\n",
    "df.to_csv('ex5-1.csv', sep = '|')\n",
    "!type \"ex5-1.csv\""
   ]
  },
  {
   "cell_type": "code",
   "execution_count": null,
   "metadata": {
    "collapsed": false
   },
   "outputs": [],
   "source": [
    "# 設定 na_rep 參數，以其他的符號 明確地標示 缺失值\n",
    "df.to_csv('ex5-1.csv', na_rep = 'NULL')\n",
    "!type \"ex5-1.csv\""
   ]
  },
  {
   "cell_type": "code",
   "execution_count": null,
   "metadata": {
    "collapsed": false
   },
   "outputs": [],
   "source": [
    "# 可以禁止列出 row, column的標籤\n",
    "# 不輸出index、header\n",
    "df.to_csv('ex5-1.csv', na_rep = 'NULL', index = False, header = False) \n",
    "!type \"ex5-1.csv\""
   ]
  },
  {
   "cell_type": "code",
   "execution_count": null,
   "metadata": {
    "collapsed": false
   },
   "outputs": [],
   "source": [
    "# 不輸出index\n",
    "df.to_csv('ex5-1.csv', na_rep = 'NULL', index = False) \n",
    "!type \"ex5-1.csv\""
   ]
  },
  {
   "cell_type": "code",
   "execution_count": null,
   "metadata": {
    "collapsed": false
   },
   "outputs": [],
   "source": [
    "# 設定 cols 參數，只寫出一部分的欄位\n",
    "df\n",
    "df.to_csv(\"ex5-1.csv\", index = False, cols = ['a', 'b', 'c']) # 好像無效呢?\n",
    "!type \"ex5-1.csv\""
   ]
  },
  {
   "cell_type": "code",
   "execution_count": null,
   "metadata": {
    "collapsed": false
   },
   "outputs": [],
   "source": [
    "# Series 也有to_csv方法\n",
    "dates = pd.date_range('1/1/2000', periods = 7)\n",
    "dates"
   ]
  },
  {
   "cell_type": "code",
   "execution_count": null,
   "metadata": {
    "collapsed": false
   },
   "outputs": [],
   "source": [
    "ts = Series(np.arange(7), index = dates)\n",
    "ts"
   ]
  },
  {
   "cell_type": "code",
   "execution_count": null,
   "metadata": {
    "collapsed": false
   },
   "outputs": [],
   "source": [
    "# Series物件 也有to_csv方法\n",
    "ts.to_csv('treseries.csv')\n",
    "!type \"treseries.csv\""
   ]
  },
  {
   "cell_type": "code",
   "execution_count": null,
   "metadata": {
    "collapsed": false
   },
   "outputs": [],
   "source": [
    "# Series類別 也有to_csv方法 (頂層)\n",
    "Series.to_csv(ts, 'treseries.csv')\n",
    "!type \"treseries.csv"
   ]
  },
  {
   "cell_type": "code",
   "execution_count": null,
   "metadata": {
    "collapsed": false
   },
   "outputs": [],
   "source": [
    "# 使用 from_csv 將檔案讀入成為 Series\n",
    "# 有 date欄位，須設定 parse_dates 參數\n",
    "ts = Series.from_csv('treseries.csv', parse_dates = True)\n",
    "ts"
   ]
  },
  {
   "cell_type": "markdown",
   "metadata": {},
   "source": [
    "## JSON(JavaScript Object Notation)數據"
   ]
  },
  {
   "cell_type": "code",
   "execution_count": null,
   "metadata": {
    "collapsed": true
   },
   "outputs": [],
   "source": [
    "obj = \"\"\"\n",
    "{\n",
    "\"name\": \"Wes\", \n",
    "\"place_lived\": [\"United States\", \"Spain\", \"Germany\"],\n",
    "\"pet\": null,\n",
    "\"siblings\": [{\"name\": \"Scott\", \"age\": 25, \"pet\": \"Zuko\"}, {\"name\": \"Wei\", \"age\": 25, \"pet\": \"Cisco\"}]\n",
    "}\n",
    "\"\"\""
   ]
  },
  {
   "cell_type": "code",
   "execution_count": null,
   "metadata": {
    "collapsed": false
   },
   "outputs": [],
   "source": [
    "# 用 json.loads 可將JSON字串還原成 dict物件\n",
    "import json\n",
    "\n",
    "result = json.loads(obj)\n",
    "result"
   ]
  },
  {
   "cell_type": "code",
   "execution_count": null,
   "metadata": {
    "collapsed": false
   },
   "outputs": [],
   "source": [
    "# JSON物件其實是 dict 物件\n",
    "type(result)"
   ]
  },
  {
   "cell_type": "code",
   "execution_count": null,
   "metadata": {
    "collapsed": false
   },
   "outputs": [],
   "source": [
    "# 使用索引，可以探及 dict內部的資料\n",
    "type(result['siblings'][0]['age'])"
   ]
  },
  {
   "cell_type": "code",
   "execution_count": null,
   "metadata": {
    "collapsed": false
   },
   "outputs": [],
   "source": [
    "# json.dumps 可將dict物件轉換成 JSON字串\n",
    "# json字串 和json物件 需區分清楚\n",
    "# json物件 其實就是 dict\n",
    "json.dumps(result)"
   ]
  },
  {
   "cell_type": "code",
   "execution_count": null,
   "metadata": {
    "collapsed": false
   },
   "outputs": [],
   "source": [
    "result['siblings']"
   ]
  },
  {
   "cell_type": "code",
   "execution_count": null,
   "metadata": {
    "collapsed": false
   },
   "outputs": [],
   "source": [
    "# 以JSON物件建構DataFrame\n",
    "df_siblings = DataFrame(result['siblings'], columns = ['age', 'name', 'pet']).T\n",
    "df_siblings"
   ]
  },
  {
   "cell_type": "code",
   "execution_count": null,
   "metadata": {
    "collapsed": false
   },
   "outputs": [],
   "source": [
    "# DataFrame有 to_json() 方法，可將DataFrame序列化\n",
    "siblings_json_string = df_siblings.to_json()\n",
    "siblings_json_string"
   ]
  },
  {
   "cell_type": "code",
   "execution_count": null,
   "metadata": {
    "collapsed": false
   },
   "outputs": [],
   "source": [
    "siblings_json = json.loads(siblings_json_string)\n",
    "siblings_json"
   ]
  },
  {
   "cell_type": "code",
   "execution_count": null,
   "metadata": {
    "collapsed": false
   },
   "outputs": [],
   "source": [
    "# DataFrame有 from_dict() 方法，可反序列化\n",
    "df_siblings = DataFrame.from_dict(siblings_json)\n",
    "df_siblings"
   ]
  },
  {
   "cell_type": "markdown",
   "metadata": {},
   "source": [
    "## Web訊息收集"
   ]
  },
  {
   "cell_type": "markdown",
   "metadata": {},
   "source": [
    "[Yahoo股票資料抓取](../%E8%82%A1%E7%A5%A8%E8%B3%87%E6%96%99%E5%BD%99%E6%95%B4_Yahoo%E8%82%A1%E5%B8%82.ipynb)"
   ]
  },
  {
   "cell_type": "markdown",
   "metadata": {},
   "source": [
    "## 二進制數據格式"
   ]
  },
  {
   "cell_type": "code",
   "execution_count": null,
   "metadata": {
    "collapsed": false
   },
   "outputs": [],
   "source": [
    "# pandas物件都有一個 save方法，可以將物件數據以pickle的形式保存到硬碟\n",
    "df = pd.read_csv('ex1.csv')\n",
    "df"
   ]
  },
  {
   "cell_type": "code",
   "execution_count": null,
   "metadata": {
    "collapsed": false
   },
   "outputs": [],
   "source": [
    "type(df)"
   ]
  },
  {
   "cell_type": "code",
   "execution_count": null,
   "metadata": {
    "collapsed": false
   },
   "outputs": [],
   "source": [
    "# 輸出 pickle資料到檔案\n",
    "import pickle\n",
    "df.to_pickle('ex1.pickle')\n",
    "df = None\n",
    "del df"
   ]
  },
  {
   "cell_type": "code",
   "execution_count": null,
   "metadata": {
    "collapsed": false
   },
   "outputs": [],
   "source": [
    "# 讀入 pickle檔案資料成為物件 \n",
    "df = pickle.load(open('ex1.pickle', 'rb'))\n",
    "df"
   ]
  },
  {
   "cell_type": "code",
   "execution_count": null,
   "metadata": {
    "collapsed": false
   },
   "outputs": [],
   "source": [
    "type(df)"
   ]
  },
  {
   "cell_type": "markdown",
   "metadata": {},
   "source": [
    "### 讀取 Microsoft Excel文件"
   ]
  },
  {
   "cell_type": "code",
   "execution_count": null,
   "metadata": {
    "collapsed": false
   },
   "outputs": [],
   "source": [
    "# 使用 ExcelFile 方法\n",
    "xls_file = pd.ExcelFile('test.xls', header = None)\n",
    "table = xls_file.parse('Sheet1')\n",
    "table"
   ]
  },
  {
   "cell_type": "code",
   "execution_count": null,
   "metadata": {
    "collapsed": false
   },
   "outputs": [],
   "source": [
    "type(table)"
   ]
  },
  {
   "cell_type": "markdown",
   "metadata": {},
   "source": [
    "## 使用數據庫"
   ]
  },
  {
   "cell_type": "code",
   "execution_count": null,
   "metadata": {
    "collapsed": false
   },
   "outputs": [],
   "source": [
    "# 使用 SQLite3\n",
    "\n",
    "import sqlite3\n",
    "\n",
    "# 連接資料庫\n",
    "con = sqlite3.connect(':memory:')\n",
    "\n",
    "# 建立資料表\n",
    "query = \"\"\"\n",
    "CREATE TABLE test\n",
    "(a VARCHAR(20), b VARCHAR(20), c REAL, d INTEGER);\n",
    "\"\"\"\n",
    "con.execute(query)\n",
    "con.commit()\n",
    "\n",
    "# 插入資料\n",
    "data = [('Atlanta', 'Georgia', 1.25, 6), \n",
    "        ('Tallahassee', 'Florida', 2.6, 3), \n",
    "        ('Sacramento', 'California', 1.7, 5)]\n",
    "stmt = \"INSERT INTO test VALUES(?, ?, ?, ?)\"\n",
    "con.executemany(stmt, data)\n",
    "con.commit()\n",
    "\n",
    "\n",
    "# 查詢資料\n",
    "cursor = con.execute('select * from test')\n",
    "rows = cursor.fetchall()\n",
    "rows"
   ]
  },
  {
   "cell_type": "code",
   "execution_count": null,
   "metadata": {
    "collapsed": false
   },
   "outputs": [],
   "source": [
    "# cursor.description 包含 欄位資訊\n",
    "cursor.description"
   ]
  },
  {
   "cell_type": "code",
   "execution_count": null,
   "metadata": {
    "collapsed": false
   },
   "outputs": [],
   "source": [
    "# 用資料庫的資料建立 DataFrame\n",
    "df = DataFrame(rows, columns = [f[0] for f in cursor.description])\n",
    "df"
   ]
  },
  {
   "cell_type": "code",
   "execution_count": null,
   "metadata": {
    "collapsed": false
   },
   "outputs": [],
   "source": [
    "# 使用 pandas.io.sql 來讀取資料庫資料並創建 DataFrame\n",
    "import pandas.io.sql as sql\n",
    "df = sql.read_sql('select * from test', con)\n",
    "df"
   ]
  }
 ],
 "metadata": {
  "kernelspec": {
   "display_name": "Python 3",
   "language": "python",
   "name": "python3"
  },
  "language_info": {
   "codemirror_mode": {
    "name": "ipython",
    "version": 3
   },
   "file_extension": ".py",
   "mimetype": "text/x-python",
   "name": "python",
   "nbconvert_exporter": "python",
   "pygments_lexer": "ipython3",
   "version": "3.5.1"
  }
 },
 "nbformat": 4,
 "nbformat_minor": 0
}
