{
 "cells": [
  {
   "cell_type": "markdown",
   "metadata": {},
   "source": [
    "# 練習 - 股票資料彙整_Yahoo股市 - 解答"
   ]
  },
  {
   "cell_type": "code",
   "execution_count": 2,
   "metadata": {
    "collapsed": true
   },
   "outputs": [],
   "source": [
    "import numpy as np\n",
    "import pandas as pd\n",
    "from pandas import Series, DataFrame"
   ]
  },
  {
   "cell_type": "code",
   "execution_count": 3,
   "metadata": {
    "collapsed": true
   },
   "outputs": [],
   "source": [
    "import datetime"
   ]
  },
  {
   "cell_type": "markdown",
   "metadata": {},
   "source": [
    "## 抓取網頁資料"
   ]
  },
  {
   "cell_type": "code",
   "execution_count": 4,
   "metadata": {
    "collapsed": true
   },
   "outputs": [],
   "source": [
    "def getDataOnePage(url):\n",
    "    \n",
    "    targetTableIndex = 0\n",
    "    table = pd.read_html(url,\n",
    "                         attrs = {'border': '1' , \n",
    "                                  'cellspacing': '0', \n",
    "                                  'cellpadding': '2', \n",
    "                                  'bgcolor': '#ffffff'},\n",
    "                         header = 0\n",
    "                        )[targetTableIndex]\n",
    "    \n",
    "    return table"
   ]
  },
  {
   "cell_type": "code",
   "execution_count": 5,
   "metadata": {
    "collapsed": false
   },
   "outputs": [],
   "source": [
    "def getDataOnePageTSE(page):\n",
    "    url = 'https://tw.stock.yahoo.com/s/list.php?c=tse&pid=' + str(page)   \n",
    "    return   getDataOnePage(url = url)"
   ]
  },
  {
   "cell_type": "code",
   "execution_count": 16,
   "metadata": {
    "collapsed": false
   },
   "outputs": [],
   "source": [
    "# 抓第一頁的資料\n",
    "df = getDataOnePageTSE(1)"
   ]
  },
  {
   "cell_type": "code",
   "execution_count": 17,
   "metadata": {
    "collapsed": false
   },
   "outputs": [
    {
     "data": {
      "text/html": [
       "<div>\n",
       "<table border=\"1\" class=\"dataframe\">\n",
       "  <thead>\n",
       "    <tr style=\"text-align: right;\">\n",
       "      <th></th>\n",
       "      <th>選擇</th>\n",
       "      <th>股票代號</th>\n",
       "      <th>時間</th>\n",
       "      <th>成交</th>\n",
       "      <th>買進</th>\n",
       "      <th>賣出</th>\n",
       "      <th>漲跌</th>\n",
       "      <th>張數</th>\n",
       "      <th>昨收</th>\n",
       "      <th>開盤</th>\n",
       "      <th>最高</th>\n",
       "      <th>最低</th>\n",
       "      <th>凱基證券下單</th>\n",
       "    </tr>\n",
       "  </thead>\n",
       "  <tbody>\n",
       "    <tr>\n",
       "      <th>195</th>\n",
       "      <td>NaN</td>\n",
       "      <td>1729 必翔</td>\n",
       "      <td>13:30</td>\n",
       "      <td>73.0</td>\n",
       "      <td>72.9</td>\n",
       "      <td>73.0</td>\n",
       "      <td>0.00</td>\n",
       "      <td>389</td>\n",
       "      <td>73.00</td>\n",
       "      <td>73.0</td>\n",
       "      <td>73.3</td>\n",
       "      <td>72.8</td>\n",
       "      <td>買 賣 張  零股交易</td>\n",
       "    </tr>\n",
       "    <tr>\n",
       "      <th>196</th>\n",
       "      <td>NaN</td>\n",
       "      <td>1731 美吾華</td>\n",
       "      <td>14:30</td>\n",
       "      <td>15.80</td>\n",
       "      <td>15.8</td>\n",
       "      <td>15.85</td>\n",
       "      <td>△0.05</td>\n",
       "      <td>4068</td>\n",
       "      <td>15.75</td>\n",
       "      <td>15.60</td>\n",
       "      <td>15.80</td>\n",
       "      <td>15.15</td>\n",
       "      <td>買 賣 張  零股交易</td>\n",
       "    </tr>\n",
       "    <tr>\n",
       "      <th>197</th>\n",
       "      <td>NaN</td>\n",
       "      <td>1733 五鼎</td>\n",
       "      <td>13:30</td>\n",
       "      <td>44.85</td>\n",
       "      <td>44.8</td>\n",
       "      <td>44.90</td>\n",
       "      <td>△0.05</td>\n",
       "      <td>43</td>\n",
       "      <td>44.80</td>\n",
       "      <td>44.80</td>\n",
       "      <td>44.90</td>\n",
       "      <td>44.55</td>\n",
       "      <td>買 賣 張  零股交易</td>\n",
       "    </tr>\n",
       "    <tr>\n",
       "      <th>198</th>\n",
       "      <td>NaN</td>\n",
       "      <td>1734 杏輝</td>\n",
       "      <td>14:30</td>\n",
       "      <td>31.25</td>\n",
       "      <td>31.2</td>\n",
       "      <td>31.25</td>\n",
       "      <td>△0.15</td>\n",
       "      <td>1274</td>\n",
       "      <td>31.10</td>\n",
       "      <td>31.15</td>\n",
       "      <td>31.80</td>\n",
       "      <td>31.10</td>\n",
       "      <td>買 賣 張  零股交易</td>\n",
       "    </tr>\n",
       "    <tr>\n",
       "      <th>199</th>\n",
       "      <td>NaN</td>\n",
       "      <td>1736 喬山</td>\n",
       "      <td>13:30</td>\n",
       "      <td>55.0</td>\n",
       "      <td>55.0</td>\n",
       "      <td>55.1</td>\n",
       "      <td>△0.1</td>\n",
       "      <td>282</td>\n",
       "      <td>54.90</td>\n",
       "      <td>55.6</td>\n",
       "      <td>55.6</td>\n",
       "      <td>54.9</td>\n",
       "      <td>買 賣 張  零股交易</td>\n",
       "    </tr>\n",
       "  </tbody>\n",
       "</table>\n",
       "</div>"
      ],
      "text/plain": [
       "     選擇      股票代號     時間     成交    買進     賣出     漲跌    張數     昨收     開盤  \\\n",
       "195 NaN   1729 必翔  13:30   73.0  72.9   73.0   0.00   389  73.00   73.0   \n",
       "196 NaN  1731 美吾華  14:30  15.80  15.8  15.85  △0.05  4068  15.75  15.60   \n",
       "197 NaN   1733 五鼎  13:30  44.85  44.8  44.90  △0.05    43  44.80  44.80   \n",
       "198 NaN   1734 杏輝  14:30  31.25  31.2  31.25  △0.15  1274  31.10  31.15   \n",
       "199 NaN   1736 喬山  13:30   55.0  55.0   55.1   △0.1   282  54.90   55.6   \n",
       "\n",
       "        最高     最低       凱基證券下單  \n",
       "195   73.3   72.8  買 賣 張  零股交易  \n",
       "196  15.80  15.15  買 賣 張  零股交易  \n",
       "197  44.90  44.55  買 賣 張  零股交易  \n",
       "198  31.80  31.10  買 賣 張  零股交易  \n",
       "199   55.6   54.9  買 賣 張  零股交易  "
      ]
     },
     "execution_count": 17,
     "metadata": {},
     "output_type": "execute_result"
    }
   ],
   "source": [
    "df.tail()"
   ]
  },
  {
   "cell_type": "code",
   "execution_count": 8,
   "metadata": {
    "collapsed": false
   },
   "outputs": [],
   "source": [
    "df.to_excel('stock.xlsx')"
   ]
  },
  {
   "cell_type": "markdown",
   "metadata": {},
   "source": [
    "## 修整 DataFrame中的資料"
   ]
  },
  {
   "cell_type": "code",
   "execution_count": 18,
   "metadata": {
    "collapsed": false
   },
   "outputs": [],
   "source": [
    "def fixTable(marketType, table, theDate = datetime.date.today()):\n",
    "    \n",
    "    fixedTable = table\n",
    "    \n",
    "    # Drop\n",
    "    fixedTable.drop(['選擇', '凱基證券下單'], axis = 1, inplace = True)\n",
    "    fixedTable.dropna(axis=0, how='all', inplace=True)\n",
    "\n",
    "    # fill missing data\n",
    "    fixedTable['股票代號名稱'] = fixedTable['股票代號']\n",
    "    fixedTable['股票代號'] = fixedTable['股票代號名稱'].map(lambda x: x.split()[0])\n",
    "    fixedTable['股票名稱'] = fixedTable['股票代號名稱'].map(lambda x: x.split()[1])\n",
    "    fixedTable['日期'] = theDate\n",
    "    fixedTable['市場別'] = marketType\n",
    "    \n",
    "    # data type\n",
    "    fixedTable.replace('－', np.nan, inplace = True)    \n",
    "     \n",
    "    fixedTable['股票代號'] = fixedTable['股票代號'].astype(str)\n",
    "    fixedTable['時間'] = fixedTable['時間'].astype(datetime.time)    \n",
    "    fixedTable[['成交', '買進', '賣出', '張數', '昨收', '開盤', '最高', '最低']] = \\\n",
    "        fixedTable[['成交', '買進', '賣出', '張數', '昨收', '開盤', '最高', '最低']].astype(float)  \n",
    "    \n",
    "    fixedTable['漲跌'] = fixedTable['成交'] - fixedTable['昨收']\n",
    "    fixedTable['漲跌'] = fixedTable['漲跌'].map(lambda x: round(x, 2))\n",
    "    \n",
    "    # sort\n",
    "#     fixedTable.sort_values(by = '股票代號', inplace = True) \n",
    "    \n",
    "    # indexing\n",
    "    fixedTable.index = Series(range(len(fixedTable)))\n",
    "    fixedTable.index.name = '項次'\n",
    "    fixedTable = fixedTable.reindex(columns = ['市場別', '股票代號', '股票名稱', '日期', '時間', '成交', '買進', '賣出', '漲跌', '張數', '昨收', '開盤', '最高', '最低'])\n",
    "    \n",
    "    return fixedTable"
   ]
  },
  {
   "cell_type": "code",
   "execution_count": 19,
   "metadata": {
    "collapsed": false
   },
   "outputs": [],
   "source": [
    "df1 = fixTable('TSE', df)"
   ]
  },
  {
   "cell_type": "code",
   "execution_count": 23,
   "metadata": {
    "collapsed": false
   },
   "outputs": [
    {
     "data": {
      "text/html": [
       "<div>\n",
       "<table border=\"1\" class=\"dataframe\">\n",
       "  <thead>\n",
       "    <tr style=\"text-align: right;\">\n",
       "      <th></th>\n",
       "      <th>市場別</th>\n",
       "      <th>股票代號</th>\n",
       "      <th>股票名稱</th>\n",
       "      <th>日期</th>\n",
       "      <th>時間</th>\n",
       "      <th>成交</th>\n",
       "      <th>買進</th>\n",
       "      <th>賣出</th>\n",
       "      <th>漲跌</th>\n",
       "      <th>張數</th>\n",
       "      <th>昨收</th>\n",
       "      <th>開盤</th>\n",
       "      <th>最高</th>\n",
       "      <th>最低</th>\n",
       "    </tr>\n",
       "    <tr>\n",
       "      <th>項次</th>\n",
       "      <th></th>\n",
       "      <th></th>\n",
       "      <th></th>\n",
       "      <th></th>\n",
       "      <th></th>\n",
       "      <th></th>\n",
       "      <th></th>\n",
       "      <th></th>\n",
       "      <th></th>\n",
       "      <th></th>\n",
       "      <th></th>\n",
       "      <th></th>\n",
       "      <th></th>\n",
       "      <th></th>\n",
       "    </tr>\n",
       "  </thead>\n",
       "  <tbody>\n",
       "    <tr>\n",
       "      <th>195</th>\n",
       "      <td>TSE</td>\n",
       "      <td>1729</td>\n",
       "      <td>必翔</td>\n",
       "      <td>2016-03-12</td>\n",
       "      <td>13:30</td>\n",
       "      <td>73.00</td>\n",
       "      <td>72.9</td>\n",
       "      <td>73.00</td>\n",
       "      <td>0.00</td>\n",
       "      <td>389</td>\n",
       "      <td>73.00</td>\n",
       "      <td>73.00</td>\n",
       "      <td>73.3</td>\n",
       "      <td>72.80</td>\n",
       "    </tr>\n",
       "    <tr>\n",
       "      <th>196</th>\n",
       "      <td>TSE</td>\n",
       "      <td>1731</td>\n",
       "      <td>美吾華</td>\n",
       "      <td>2016-03-12</td>\n",
       "      <td>14:30</td>\n",
       "      <td>15.80</td>\n",
       "      <td>15.8</td>\n",
       "      <td>15.85</td>\n",
       "      <td>0.05</td>\n",
       "      <td>4068</td>\n",
       "      <td>15.75</td>\n",
       "      <td>15.60</td>\n",
       "      <td>15.8</td>\n",
       "      <td>15.15</td>\n",
       "    </tr>\n",
       "    <tr>\n",
       "      <th>197</th>\n",
       "      <td>TSE</td>\n",
       "      <td>1733</td>\n",
       "      <td>五鼎</td>\n",
       "      <td>2016-03-12</td>\n",
       "      <td>13:30</td>\n",
       "      <td>44.85</td>\n",
       "      <td>44.8</td>\n",
       "      <td>44.90</td>\n",
       "      <td>0.05</td>\n",
       "      <td>43</td>\n",
       "      <td>44.80</td>\n",
       "      <td>44.80</td>\n",
       "      <td>44.9</td>\n",
       "      <td>44.55</td>\n",
       "    </tr>\n",
       "    <tr>\n",
       "      <th>198</th>\n",
       "      <td>TSE</td>\n",
       "      <td>1734</td>\n",
       "      <td>杏輝</td>\n",
       "      <td>2016-03-12</td>\n",
       "      <td>14:30</td>\n",
       "      <td>31.25</td>\n",
       "      <td>31.2</td>\n",
       "      <td>31.25</td>\n",
       "      <td>0.15</td>\n",
       "      <td>1274</td>\n",
       "      <td>31.10</td>\n",
       "      <td>31.15</td>\n",
       "      <td>31.8</td>\n",
       "      <td>31.10</td>\n",
       "    </tr>\n",
       "    <tr>\n",
       "      <th>199</th>\n",
       "      <td>TSE</td>\n",
       "      <td>1736</td>\n",
       "      <td>喬山</td>\n",
       "      <td>2016-03-12</td>\n",
       "      <td>13:30</td>\n",
       "      <td>55.00</td>\n",
       "      <td>55.0</td>\n",
       "      <td>55.10</td>\n",
       "      <td>0.10</td>\n",
       "      <td>282</td>\n",
       "      <td>54.90</td>\n",
       "      <td>55.60</td>\n",
       "      <td>55.6</td>\n",
       "      <td>54.90</td>\n",
       "    </tr>\n",
       "  </tbody>\n",
       "</table>\n",
       "</div>"
      ],
      "text/plain": [
       "     市場別  股票代號 股票名稱          日期     時間     成交    買進     賣出    漲跌    張數     昨收  \\\n",
       "項次                                                                              \n",
       "195  TSE  1729   必翔  2016-03-12  13:30  73.00  72.9  73.00  0.00   389  73.00   \n",
       "196  TSE  1731  美吾華  2016-03-12  14:30  15.80  15.8  15.85  0.05  4068  15.75   \n",
       "197  TSE  1733   五鼎  2016-03-12  13:30  44.85  44.8  44.90  0.05    43  44.80   \n",
       "198  TSE  1734   杏輝  2016-03-12  14:30  31.25  31.2  31.25  0.15  1274  31.10   \n",
       "199  TSE  1736   喬山  2016-03-12  13:30  55.00  55.0  55.10  0.10   282  54.90   \n",
       "\n",
       "        開盤    最高     最低  \n",
       "項次                       \n",
       "195  73.00  73.3  72.80  \n",
       "196  15.60  15.8  15.15  \n",
       "197  44.80  44.9  44.55  \n",
       "198  31.15  31.8  31.10  \n",
       "199  55.60  55.6  54.90  "
      ]
     },
     "execution_count": 23,
     "metadata": {},
     "output_type": "execute_result"
    }
   ],
   "source": [
    "df1.tail(5)"
   ]
  },
  {
   "cell_type": "markdown",
   "metadata": {
    "collapsed": true
   },
   "source": [
    "## 彙整 Yahoo 股市 page 1~ 5 的資料"
   ]
  },
  {
   "cell_type": "code",
   "execution_count": 49,
   "metadata": {
    "collapsed": true
   },
   "outputs": [],
   "source": [
    "# 抓第一頁~第五頁的資料\n",
    "dfs = map(lambda p: fixTable('TSE', getDataOnePageTSE(p)) , range(1, 6))"
   ]
  },
  {
   "cell_type": "code",
   "execution_count": 50,
   "metadata": {
    "collapsed": false
   },
   "outputs": [
    {
     "data": {
      "text/plain": [
       "1000"
      ]
     },
     "execution_count": 50,
     "metadata": {},
     "output_type": "execute_result"
    }
   ],
   "source": [
    "# Append 在一起\n",
    "df = pd.concat(dfs)\n",
    "len(df)"
   ]
  },
  {
   "cell_type": "code",
   "execution_count": 52,
   "metadata": {
    "collapsed": false
   },
   "outputs": [
    {
     "data": {
      "text/html": [
       "<div>\n",
       "<table border=\"1\" class=\"dataframe\">\n",
       "  <thead>\n",
       "    <tr style=\"text-align: right;\">\n",
       "      <th></th>\n",
       "      <th>市場別</th>\n",
       "      <th>股票代號</th>\n",
       "      <th>股票名稱</th>\n",
       "      <th>日期</th>\n",
       "      <th>時間</th>\n",
       "      <th>成交</th>\n",
       "      <th>買進</th>\n",
       "      <th>賣出</th>\n",
       "      <th>漲跌</th>\n",
       "      <th>張數</th>\n",
       "      <th>昨收</th>\n",
       "      <th>開盤</th>\n",
       "      <th>最高</th>\n",
       "      <th>最低</th>\n",
       "    </tr>\n",
       "  </thead>\n",
       "  <tbody>\n",
       "    <tr>\n",
       "      <th>894</th>\n",
       "      <td>TSE</td>\n",
       "      <td>9941</td>\n",
       "      <td>裕融</td>\n",
       "      <td>2016-03-12</td>\n",
       "      <td>13:30</td>\n",
       "      <td>75.10</td>\n",
       "      <td>75.0</td>\n",
       "      <td>75.20</td>\n",
       "      <td>-0.30</td>\n",
       "      <td>183</td>\n",
       "      <td>75.40</td>\n",
       "      <td>75.70</td>\n",
       "      <td>75.70</td>\n",
       "      <td>74.70</td>\n",
       "    </tr>\n",
       "    <tr>\n",
       "      <th>895</th>\n",
       "      <td>TSE</td>\n",
       "      <td>9942</td>\n",
       "      <td>茂順</td>\n",
       "      <td>2016-03-12</td>\n",
       "      <td>13:30</td>\n",
       "      <td>89.40</td>\n",
       "      <td>89.2</td>\n",
       "      <td>89.40</td>\n",
       "      <td>0.50</td>\n",
       "      <td>122</td>\n",
       "      <td>88.90</td>\n",
       "      <td>88.20</td>\n",
       "      <td>89.80</td>\n",
       "      <td>88.10</td>\n",
       "    </tr>\n",
       "    <tr>\n",
       "      <th>896</th>\n",
       "      <td>TSE</td>\n",
       "      <td>9944</td>\n",
       "      <td>新麗</td>\n",
       "      <td>2016-03-12</td>\n",
       "      <td>13:30</td>\n",
       "      <td>25.30</td>\n",
       "      <td>24.9</td>\n",
       "      <td>25.30</td>\n",
       "      <td>0.00</td>\n",
       "      <td>27</td>\n",
       "      <td>25.30</td>\n",
       "      <td>25.10</td>\n",
       "      <td>25.30</td>\n",
       "      <td>24.80</td>\n",
       "    </tr>\n",
       "    <tr>\n",
       "      <th>897</th>\n",
       "      <td>TSE</td>\n",
       "      <td>9945</td>\n",
       "      <td>潤泰新</td>\n",
       "      <td>2016-03-12</td>\n",
       "      <td>14:30</td>\n",
       "      <td>47.20</td>\n",
       "      <td>47.2</td>\n",
       "      <td>47.25</td>\n",
       "      <td>0.95</td>\n",
       "      <td>11271</td>\n",
       "      <td>46.25</td>\n",
       "      <td>46.70</td>\n",
       "      <td>47.75</td>\n",
       "      <td>46.70</td>\n",
       "    </tr>\n",
       "    <tr>\n",
       "      <th>898</th>\n",
       "      <td>TSE</td>\n",
       "      <td>9955</td>\n",
       "      <td>佳龍</td>\n",
       "      <td>2016-03-12</td>\n",
       "      <td>13:30</td>\n",
       "      <td>15.05</td>\n",
       "      <td>15.0</td>\n",
       "      <td>15.05</td>\n",
       "      <td>0.65</td>\n",
       "      <td>391</td>\n",
       "      <td>14.40</td>\n",
       "      <td>14.55</td>\n",
       "      <td>15.40</td>\n",
       "      <td>14.55</td>\n",
       "    </tr>\n",
       "  </tbody>\n",
       "</table>\n",
       "</div>"
      ],
      "text/plain": [
       "     市場別  股票代號 股票名稱          日期     時間     成交    買進     賣出    漲跌     張數  \\\n",
       "894  TSE  9941   裕融  2016-03-12  13:30  75.10  75.0  75.20 -0.30    183   \n",
       "895  TSE  9942   茂順  2016-03-12  13:30  89.40  89.2  89.40  0.50    122   \n",
       "896  TSE  9944   新麗  2016-03-12  13:30  25.30  24.9  25.30  0.00     27   \n",
       "897  TSE  9945  潤泰新  2016-03-12  14:30  47.20  47.2  47.25  0.95  11271   \n",
       "898  TSE  9955   佳龍  2016-03-12  13:30  15.05  15.0  15.05  0.65    391   \n",
       "\n",
       "        昨收     開盤     最高     最低  \n",
       "894  75.40  75.70  75.70  74.70  \n",
       "895  88.90  88.20  89.80  88.10  \n",
       "896  25.30  25.10  25.30  24.80  \n",
       "897  46.25  46.70  47.75  46.70  \n",
       "898  14.40  14.55  15.40  14.55  "
      ]
     },
     "execution_count": 52,
     "metadata": {},
     "output_type": "execute_result"
    }
   ],
   "source": [
    "df.index = pd.Index(range(len(df)))  # 重新編排 row index 編號\n",
    "df = df[df['股票代號'].str.len() <= 4]  # 濾除 權證 資料\n",
    "df.tail()"
   ]
  },
  {
   "cell_type": "markdown",
   "metadata": {},
   "source": [
    "## 抓取 類股 資料"
   ]
  },
  {
   "cell_type": "code",
   "execution_count": 37,
   "metadata": {
    "collapsed": false
   },
   "outputs": [
    {
     "data": {
      "text/html": [
       "<div>\n",
       "<table border=\"1\" class=\"dataframe\">\n",
       "  <thead>\n",
       "    <tr style=\"text-align: right;\">\n",
       "      <th></th>\n",
       "      <th>市場別_ID</th>\n",
       "      <th>類股別_ID</th>\n",
       "      <th>個股_代號</th>\n",
       "      <th>個股_名稱</th>\n",
       "      <th>類股_名稱</th>\n",
       "    </tr>\n",
       "  </thead>\n",
       "  <tbody>\n",
       "    <tr>\n",
       "      <th>29345</th>\n",
       "      <td>2</td>\n",
       "      <td>72</td>\n",
       "      <td>72861P</td>\n",
       "      <td>國泰RG</td>\n",
       "      <td>櫃認售</td>\n",
       "    </tr>\n",
       "    <tr>\n",
       "      <th>29346</th>\n",
       "      <td>2</td>\n",
       "      <td>72</td>\n",
       "      <td>72863P</td>\n",
       "      <td>國泰RJ</td>\n",
       "      <td>櫃認售</td>\n",
       "    </tr>\n",
       "    <tr>\n",
       "      <th>29347</th>\n",
       "      <td>2</td>\n",
       "      <td>72</td>\n",
       "      <td>72895P</td>\n",
       "      <td>元大P3</td>\n",
       "      <td>櫃認售</td>\n",
       "    </tr>\n",
       "    <tr>\n",
       "      <th>29348</th>\n",
       "      <td>2</td>\n",
       "      <td>72</td>\n",
       "      <td>72901P</td>\n",
       "      <td>工銀QM</td>\n",
       "      <td>櫃認售</td>\n",
       "    </tr>\n",
       "    <tr>\n",
       "      <th>29349</th>\n",
       "      <td>2</td>\n",
       "      <td>72</td>\n",
       "      <td>72953P</td>\n",
       "      <td>日盛QW</td>\n",
       "      <td>櫃認售</td>\n",
       "    </tr>\n",
       "  </tbody>\n",
       "</table>\n",
       "</div>"
      ],
      "text/plain": [
       "       市場別_ID  類股別_ID   個股_代號 個股_名稱 類股_名稱\n",
       "29345       2      72  72861P  國泰RG   櫃認售\n",
       "29346       2      72  72863P  國泰RJ   櫃認售\n",
       "29347       2      72  72895P  元大P3   櫃認售\n",
       "29348       2      72  72901P  工銀QM   櫃認售\n",
       "29349       2      72  72953P  日盛QW   櫃認售"
      ]
     },
     "execution_count": 37,
     "metadata": {},
     "output_type": "execute_result"
    }
   ],
   "source": [
    "df_類股 = pd.read_excel('..\\\\data\\個股_類別.xls')  # 需先解壓縮 個股_類別.rar\n",
    "df_類股.tail()"
   ]
  },
  {
   "cell_type": "markdown",
   "metadata": {},
   "source": [
    "## Merge"
   ]
  },
  {
   "cell_type": "code",
   "execution_count": 53,
   "metadata": {
    "collapsed": false
   },
   "outputs": [
    {
     "data": {
      "text/html": [
       "<div>\n",
       "<table border=\"1\" class=\"dataframe\">\n",
       "  <thead>\n",
       "    <tr style=\"text-align: right;\">\n",
       "      <th></th>\n",
       "      <th>市場別</th>\n",
       "      <th>股票代號</th>\n",
       "      <th>股票名稱</th>\n",
       "      <th>日期</th>\n",
       "      <th>時間</th>\n",
       "      <th>成交</th>\n",
       "      <th>買進</th>\n",
       "      <th>賣出</th>\n",
       "      <th>漲跌</th>\n",
       "      <th>張數</th>\n",
       "      <th>昨收</th>\n",
       "      <th>開盤</th>\n",
       "      <th>最高</th>\n",
       "      <th>最低</th>\n",
       "      <th>類股別_ID</th>\n",
       "      <th>類股_名稱</th>\n",
       "    </tr>\n",
       "  </thead>\n",
       "  <tbody>\n",
       "    <tr>\n",
       "      <th>878</th>\n",
       "      <td>TSE</td>\n",
       "      <td>9941</td>\n",
       "      <td>裕融</td>\n",
       "      <td>2016-03-12</td>\n",
       "      <td>13:30</td>\n",
       "      <td>75.10</td>\n",
       "      <td>75.0</td>\n",
       "      <td>75.20</td>\n",
       "      <td>-0.30</td>\n",
       "      <td>183</td>\n",
       "      <td>75.40</td>\n",
       "      <td>75.70</td>\n",
       "      <td>75.70</td>\n",
       "      <td>74.70</td>\n",
       "      <td>6</td>\n",
       "      <td>其他</td>\n",
       "    </tr>\n",
       "    <tr>\n",
       "      <th>879</th>\n",
       "      <td>TSE</td>\n",
       "      <td>9942</td>\n",
       "      <td>茂順</td>\n",
       "      <td>2016-03-12</td>\n",
       "      <td>13:30</td>\n",
       "      <td>89.40</td>\n",
       "      <td>89.2</td>\n",
       "      <td>89.40</td>\n",
       "      <td>0.50</td>\n",
       "      <td>122</td>\n",
       "      <td>88.90</td>\n",
       "      <td>88.20</td>\n",
       "      <td>89.80</td>\n",
       "      <td>88.10</td>\n",
       "      <td>6</td>\n",
       "      <td>其他</td>\n",
       "    </tr>\n",
       "    <tr>\n",
       "      <th>880</th>\n",
       "      <td>TSE</td>\n",
       "      <td>9944</td>\n",
       "      <td>新麗</td>\n",
       "      <td>2016-03-12</td>\n",
       "      <td>13:30</td>\n",
       "      <td>25.30</td>\n",
       "      <td>24.9</td>\n",
       "      <td>25.30</td>\n",
       "      <td>0.00</td>\n",
       "      <td>27</td>\n",
       "      <td>25.30</td>\n",
       "      <td>25.10</td>\n",
       "      <td>25.30</td>\n",
       "      <td>24.80</td>\n",
       "      <td>6</td>\n",
       "      <td>其他</td>\n",
       "    </tr>\n",
       "    <tr>\n",
       "      <th>881</th>\n",
       "      <td>TSE</td>\n",
       "      <td>9945</td>\n",
       "      <td>潤泰新</td>\n",
       "      <td>2016-03-12</td>\n",
       "      <td>14:30</td>\n",
       "      <td>47.20</td>\n",
       "      <td>47.2</td>\n",
       "      <td>47.25</td>\n",
       "      <td>0.95</td>\n",
       "      <td>11271</td>\n",
       "      <td>46.25</td>\n",
       "      <td>46.70</td>\n",
       "      <td>47.75</td>\n",
       "      <td>46.70</td>\n",
       "      <td>6</td>\n",
       "      <td>其他</td>\n",
       "    </tr>\n",
       "    <tr>\n",
       "      <th>882</th>\n",
       "      <td>TSE</td>\n",
       "      <td>9955</td>\n",
       "      <td>佳龍</td>\n",
       "      <td>2016-03-12</td>\n",
       "      <td>13:30</td>\n",
       "      <td>15.05</td>\n",
       "      <td>15.0</td>\n",
       "      <td>15.05</td>\n",
       "      <td>0.65</td>\n",
       "      <td>391</td>\n",
       "      <td>14.40</td>\n",
       "      <td>14.55</td>\n",
       "      <td>15.40</td>\n",
       "      <td>14.55</td>\n",
       "      <td>6</td>\n",
       "      <td>其他</td>\n",
       "    </tr>\n",
       "  </tbody>\n",
       "</table>\n",
       "</div>"
      ],
      "text/plain": [
       "     市場別  股票代號 股票名稱          日期     時間     成交    買進     賣出    漲跌     張數  \\\n",
       "878  TSE  9941   裕融  2016-03-12  13:30  75.10  75.0  75.20 -0.30    183   \n",
       "879  TSE  9942   茂順  2016-03-12  13:30  89.40  89.2  89.40  0.50    122   \n",
       "880  TSE  9944   新麗  2016-03-12  13:30  25.30  24.9  25.30  0.00     27   \n",
       "881  TSE  9945  潤泰新  2016-03-12  14:30  47.20  47.2  47.25  0.95  11271   \n",
       "882  TSE  9955   佳龍  2016-03-12  13:30  15.05  15.0  15.05  0.65    391   \n",
       "\n",
       "        昨收     開盤     最高     最低  類股別_ID 類股_名稱  \n",
       "878  75.40  75.70  75.70  74.70       6    其他  \n",
       "879  88.90  88.20  89.80  88.10       6    其他  \n",
       "880  25.30  25.10  25.30  24.80       6    其他  \n",
       "881  46.25  46.70  47.75  46.70       6    其他  \n",
       "882  14.40  14.55  15.40  14.55       6    其他  "
      ]
     },
     "execution_count": 53,
     "metadata": {},
     "output_type": "execute_result"
    }
   ],
   "source": [
    "mdf = df.merge(df_類股, left_on = '股票代號', right_on = '個股_代號', how = 'left')  # merge\n",
    "mdf = mdf.drop(['市場別_ID', '個股_代號', '個股_名稱'], axis = 1)  # drop 多於的欄位\n",
    "mdf.tail()"
   ]
  },
  {
   "cell_type": "markdown",
   "metadata": {},
   "source": [
    "## GroupBy"
   ]
  },
  {
   "cell_type": "code",
   "execution_count": 56,
   "metadata": {
    "collapsed": false
   },
   "outputs": [
    {
     "data": {
      "text/plain": [
       "類股_名稱\n",
       "光電       71\n",
       "其他       46\n",
       "其它電子     32\n",
       "化工       26\n",
       "半導體      66\n",
       "塑膠       22\n",
       "憑證        7\n",
       "橡膠       10\n",
       "水泥        7\n",
       "汽車        6\n",
       "油電燃氣      8\n",
       "營建       48\n",
       "玻璃        4\n",
       "生技醫療     20\n",
       "紡織       46\n",
       "航運運輸     21\n",
       "觀光       13\n",
       "貿易百貨     11\n",
       "資訊服務     13\n",
       "通信網路     39\n",
       "造紙        7\n",
       "金融       34\n",
       "鋼鐵       30\n",
       "電器電纜     15\n",
       "電子通路     22\n",
       "電子零組件    81\n",
       "電機       43\n",
       "電腦週邊     60\n",
       "食品       20\n",
       "dtype: int64"
      ]
     },
     "execution_count": 56,
     "metadata": {},
     "output_type": "execute_result"
    }
   ],
   "source": [
    "# 各類股有多少支個股\n",
    "mdf.groupby(['類股_名稱']).size().sort_index()"
   ]
  },
  {
   "cell_type": "code",
   "execution_count": 60,
   "metadata": {
    "collapsed": false
   },
   "outputs": [
    {
     "data": {
      "text/plain": [
       "類股_名稱\n",
       "光電        57.292394\n",
       "其他        57.474783\n",
       "其它電子      42.019375\n",
       "化工        33.268462\n",
       "半導體       50.585909\n",
       "塑膠        26.470000\n",
       "憑證         4.358571\n",
       "橡膠        34.870000\n",
       "水泥        18.044286\n",
       "汽車       133.266667\n",
       "油電燃氣      37.387500\n",
       "營建        18.950000\n",
       "玻璃        10.505000\n",
       "生技醫療      53.860000\n",
       "紡織        32.143913\n",
       "航運運輸      17.773333\n",
       "觀光        69.923077\n",
       "貿易百貨      40.230000\n",
       "資訊服務      38.372308\n",
       "通信網路      34.976154\n",
       "造紙        13.552857\n",
       "金融        15.497647\n",
       "鋼鐵        17.430345\n",
       "電器電纜      10.736000\n",
       "電子通路      31.622857\n",
       "電子零組件     37.101111\n",
       "電機        63.737907\n",
       "電腦週邊      47.115833\n",
       "食品        31.715000\n",
       "Name: 成交, dtype: float64"
      ]
     },
     "execution_count": 60,
     "metadata": {},
     "output_type": "execute_result"
    }
   ],
   "source": [
    "# 各類股 平均股價\n",
    "mdf.groupby(['類股_名稱'])['成交'].mean().sort_index()"
   ]
  }
 ],
 "metadata": {
  "kernelspec": {
   "display_name": "Python 3",
   "language": "python",
   "name": "python3"
  },
  "language_info": {
   "codemirror_mode": {
    "name": "ipython",
    "version": 3
   },
   "file_extension": ".py",
   "mimetype": "text/x-python",
   "name": "python",
   "nbconvert_exporter": "python",
   "pygments_lexer": "ipython3",
   "version": "3.5.1"
  }
 },
 "nbformat": 4,
 "nbformat_minor": 0
}
