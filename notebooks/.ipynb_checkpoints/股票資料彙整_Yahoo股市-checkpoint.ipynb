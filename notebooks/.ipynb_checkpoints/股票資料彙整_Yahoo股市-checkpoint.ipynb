{
 "cells": [
  {
   "cell_type": "markdown",
   "metadata": {},
   "source": [
    "# 股票資料彙整_Yahoo股市"
   ]
  },
  {
   "cell_type": "code",
   "execution_count": null,
   "metadata": {
    "collapsed": true
   },
   "outputs": [],
   "source": [
    "import numpy as np\n",
    "import pandas as pd\n",
    "from pandas import Series, DataFrame"
   ]
  },
  {
   "cell_type": "code",
   "execution_count": null,
   "metadata": {
    "collapsed": true
   },
   "outputs": [],
   "source": [
    "import datetime"
   ]
  },
  {
   "cell_type": "markdown",
   "metadata": {},
   "source": [
    "## 抓取網頁資料"
   ]
  },
  {
   "cell_type": "code",
   "execution_count": null,
   "metadata": {
    "collapsed": true
   },
   "outputs": [],
   "source": [
    "def getDataOnePage(url):\n",
    "    \n",
    "    targetTableIndex = 0\n",
    "    table = pd.read_html(url,\n",
    "                         attrs = {'border': '1' , \n",
    "                                  'cellspacing': '0', \n",
    "                                  'cellpadding': '2', \n",
    "                                  'bgcolor': '#ffffff'},\n",
    "                         header = 0\n",
    "                        )[targetTableIndex]\n",
    "    \n",
    "    return table"
   ]
  },
  {
   "cell_type": "code",
   "execution_count": null,
   "metadata": {
    "collapsed": false
   },
   "outputs": [],
   "source": [
    "def getDataOnePageTSE(page):\n",
    "    url = 'https://tw.stock.yahoo.com/s/list.php?c=tse&pid=' + str(page)   \n",
    "    return   getDataOnePage(url = url)"
   ]
  },
  {
   "cell_type": "code",
   "execution_count": null,
   "metadata": {
    "collapsed": false
   },
   "outputs": [],
   "source": [
    "odf = getDataOnePageTSE(1)"
   ]
  },
  {
   "cell_type": "code",
   "execution_count": null,
   "metadata": {
    "collapsed": false
   },
   "outputs": [],
   "source": [
    "df = odf.copy()\n",
    "df.tail()"
   ]
  },
  {
   "cell_type": "code",
   "execution_count": null,
   "metadata": {
    "collapsed": false
   },
   "outputs": [],
   "source": [
    "df.to_excel('stock.xlsx')"
   ]
  },
  {
   "cell_type": "markdown",
   "metadata": {},
   "source": [
    "## 修整 DataFrame中的資料"
   ]
  },
  {
   "cell_type": "code",
   "execution_count": null,
   "metadata": {
    "collapsed": false
   },
   "outputs": [],
   "source": [
    "def fixTable(marketType, table, theDate = datetime.date.today()):\n",
    "    \n",
    "    fixedTable = table\n",
    "    \n",
    "    # Drop\n",
    "    fixedTable.drop(['選擇', '凱基證券下單'], axis = 1, inplace = True)\n",
    "    fixedTable.dropna(axis=0, how='all', inplace=True)\n",
    "\n",
    "    # fill missing data\n",
    "    fixedTable['股票代號名稱'] = fixedTable['股票代號']\n",
    "    fixedTable['股票代號'] = fixedTable['股票代號名稱'].map(lambda x: x.split()[0])\n",
    "    fixedTable['股票名稱'] = fixedTable['股票代號名稱'].map(lambda x: x.split()[1])\n",
    "    fixedTable['日期'] = theDate\n",
    "    fixedTable['市場別'] = marketType\n",
    "    \n",
    "    # data type\n",
    "    fixedTable.replace('－', np.nan, inplace = True)    \n",
    "     \n",
    "    fixedTable['股票代號'] = fixedTable['股票代號'].astype(str)\n",
    "    fixedTable['時間'] = fixedTable['時間'].astype(datetime.time)    \n",
    "    fixedTable[['成交', '買進', '賣出', '張數', '昨收', '開盤', '最高', '最低']] = \\\n",
    "        fixedTable[['成交', '買進', '賣出', '張數', '昨收', '開盤', '最高', '最低']].astype(float)  \n",
    "    \n",
    "    fixedTable['漲跌'] = fixedTable['成交'] - fixedTable['昨收']\n",
    "    fixedTable['漲跌'] = fixedTable['漲跌'].map(lambda x: round(x, 2))\n",
    "    \n",
    "    # sort\n",
    "#     fixedTable.sort_values(by = '股票代號', inplace = True) \n",
    "    \n",
    "    # indexing\n",
    "    fixedTable.index = Series(range(len(fixedTable)))\n",
    "    fixedTable.index.name = '項次'\n",
    "    fixedTable = fixedTable.reindex(columns = ['市場別', '股票代號', '股票名稱', '日期', '時間', '成交', '買進', '賣出', '漲跌', '張數', '昨收', '開盤', '最高', '最低'])\n",
    "    \n",
    "    return fixedTable"
   ]
  },
  {
   "cell_type": "code",
   "execution_count": null,
   "metadata": {
    "collapsed": false
   },
   "outputs": [],
   "source": [
    "fdf = fixTable('TSE', df)"
   ]
  },
  {
   "cell_type": "code",
   "execution_count": null,
   "metadata": {
    "collapsed": false
   },
   "outputs": [],
   "source": [
    "fdf.tail()"
   ]
  },
  {
   "cell_type": "code",
   "execution_count": null,
   "metadata": {
    "collapsed": true
   },
   "outputs": [],
   "source": []
  }
 ],
 "metadata": {
  "kernelspec": {
   "display_name": "Python 3",
   "language": "python",
   "name": "python3"
  },
  "language_info": {
   "codemirror_mode": {
    "name": "ipython",
    "version": 3
   },
   "file_extension": ".py",
   "mimetype": "text/x-python",
   "name": "python",
   "nbconvert_exporter": "python",
   "pygments_lexer": "ipython3",
   "version": "3.5.1"
  }
 },
 "nbformat": 4,
 "nbformat_minor": 0
}
