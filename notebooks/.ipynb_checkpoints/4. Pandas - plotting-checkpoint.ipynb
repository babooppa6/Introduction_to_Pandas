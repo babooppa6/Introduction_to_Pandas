{
 "cells": [
  {
   "cell_type": "markdown",
   "metadata": {},
   "source": [
    "# 4. Pandas - plotting"
   ]
  },
  {
   "cell_type": "code",
   "execution_count": null,
   "metadata": {
    "collapsed": false
   },
   "outputs": [],
   "source": [
    "%pylab inline\n",
    "from pandas import Series, DataFrame\n",
    "import pandas as pd"
   ]
  },
  {
   "cell_type": "markdown",
   "metadata": {},
   "source": [
    "## pandas中的繪圖函數"
   ]
  },
  {
   "cell_type": "markdown",
   "metadata": {},
   "source": [
    "### 線型圖"
   ]
  },
  {
   "cell_type": "code",
   "execution_count": null,
   "metadata": {
    "collapsed": false
   },
   "outputs": [],
   "source": [
    "# Series, DataFrame 的 plot()方法 預設是繪製 線型圖\n",
    "s = Series(np.random.randn(10).cumsum(), index = np.arange(0, 100, 10))\n",
    "s.plot()"
   ]
  },
  {
   "cell_type": "code",
   "execution_count": null,
   "metadata": {
    "collapsed": true
   },
   "outputs": [],
   "source": [
    "# Series的索引會被作為subplot的 X軸，可以使用參數 use_index = False 來禁用該功能\n",
    "# X軸的刻度可以透過 xticks 和 xlim 選向來調整\n",
    "# Y軸的刻度可以透過 yticks 和 ylim 選向來調整 "
   ]
  },
  {
   "cell_type": "code",
   "execution_count": null,
   "metadata": {
    "collapsed": false
   },
   "outputs": [],
   "source": [
    "# DataFrame的 plot()方法會在subplot中為每個 column繪製一條線，並自動創建legend\n",
    "df = DataFrame(np.random.randn(10, 4).cumsum(0), \n",
    "               index = np.arange(0, 100, 10), \n",
    "               columns = ['A', 'B', 'C', 'D'])\n",
    "df.tail(3)"
   ]
  },
  {
   "cell_type": "code",
   "execution_count": null,
   "metadata": {
    "collapsed": false
   },
   "outputs": [],
   "source": [
    "df.plot()"
   ]
  },
  {
   "cell_type": "markdown",
   "metadata": {},
   "source": [
    "### 柱狀圖"
   ]
  },
  {
   "cell_type": "code",
   "execution_count": null,
   "metadata": {
    "collapsed": false
   },
   "outputs": [],
   "source": [
    "# 設定 kind = 'bar' 或 'barh' 即可繪製柱狀圖\n",
    "# Series和 DataFrame的 索引會被當作subplot的 X軸(bar)或 Y軸(barh)\n",
    "\n",
    "fig, axes = plt.subplots(2, 1)\n",
    "data = Series(np.random.rand(16), index = list('abcedfghijklmnop'))\n",
    "data.plot(ax = axes[0], kind = 'bar')\n",
    "data.plot(ax = axes[1], kind = 'barh')"
   ]
  },
  {
   "cell_type": "code",
   "execution_count": null,
   "metadata": {
    "collapsed": false
   },
   "outputs": [],
   "source": [
    "df = DataFrame(np.random.rand(6, 4), \n",
    "               index = ['one', 'two', 'three', 'four', 'five', 'six'], \n",
    "               columns = pd.Index(['A', 'B', 'C', 'D'], name = 'Genus'))\n",
    "df  \n",
    "# DataFrame的每一 row的值分為一組"
   ]
  },
  {
   "cell_type": "code",
   "execution_count": null,
   "metadata": {
    "collapsed": false
   },
   "outputs": [],
   "source": [
    "# DataFrame的每一 row的值分為一組\n",
    "# columns 索引的 name屬性 被用來做為 legend的標題\n",
    "df.plot(kind = 'bar')"
   ]
  },
  {
   "cell_type": "code",
   "execution_count": null,
   "metadata": {
    "collapsed": false
   },
   "outputs": [],
   "source": [
    "# 設定 stacked = True, 可繪製 堆積柱狀圖\n",
    "df.plot(kind = 'barh', stacked = True)"
   ]
  },
  {
   "cell_type": "code",
   "execution_count": null,
   "metadata": {
    "collapsed": false
   },
   "outputs": [],
   "source": [
    "s = Series([2, 3, 5, 2, 5, 6, 7, 8, 9, 10, 13, 2, 3, 4, 7, 8, 9, 0, 0, 2, 2, 1])\n",
    "\n",
    "# 用Series的 value_counts()直接繪製柱狀圖，表達每個數字出現的次數\n",
    "vc = s.value_counts()\n",
    "vc.plot(kind = 'bar')"
   ]
  },
  {
   "cell_type": "code",
   "execution_count": null,
   "metadata": {
    "collapsed": false
   },
   "outputs": [],
   "source": [
    "tips = pd.read_csv('../data/tips.csv')\n",
    "tips[:5]"
   ]
  },
  {
   "cell_type": "code",
   "execution_count": null,
   "metadata": {
    "collapsed": false
   },
   "outputs": [],
   "source": [
    "# 用 crosstab()方法創建一個 交叉表，預設統計 發生的次數(計數)\n",
    "party_counts = pd.crosstab(tips.day , tips['size'])\n",
    "party_counts"
   ]
  },
  {
   "cell_type": "code",
   "execution_count": null,
   "metadata": {
    "collapsed": false
   },
   "outputs": [],
   "source": [
    "party_counts.plot(kind = 'bar')"
   ]
  },
  {
   "cell_type": "code",
   "execution_count": null,
   "metadata": {
    "collapsed": false
   },
   "outputs": [],
   "source": [
    "party_counts = party_counts.ix[:, 2:5]\n",
    "party_counts.plot(kind = 'bar', stacked = True)"
   ]
  },
  {
   "cell_type": "code",
   "execution_count": null,
   "metadata": {
    "collapsed": false
   },
   "outputs": [],
   "source": [
    "party_counts"
   ]
  },
  {
   "cell_type": "code",
   "execution_count": null,
   "metadata": {
    "collapsed": false
   },
   "outputs": [],
   "source": [
    "party_counts = party_counts.div(party_counts.sum(1), axis = 0)\n",
    "party_counts"
   ]
  },
  {
   "cell_type": "code",
   "execution_count": null,
   "metadata": {
    "collapsed": false
   },
   "outputs": [],
   "source": [
    "party_counts.sum(1)"
   ]
  },
  {
   "cell_type": "code",
   "execution_count": null,
   "metadata": {
    "collapsed": false
   },
   "outputs": [],
   "source": [
    "party_counts.plot(kind = 'bar', stacked = True)"
   ]
  },
  {
   "cell_type": "markdown",
   "metadata": {},
   "source": [
    "### 直方圖(histogram)和密度圖"
   ]
  },
  {
   "cell_type": "code",
   "execution_count": null,
   "metadata": {
    "collapsed": false
   },
   "outputs": [],
   "source": [
    "tips = pd.read_csv('../data/tips.csv')\n",
    "tips[:5]"
   ]
  },
  {
   "cell_type": "code",
   "execution_count": null,
   "metadata": {
    "collapsed": false
   },
   "outputs": [],
   "source": [
    "# 可以用 plot(kind = 'hist') 來繪製直方圖\n",
    "tips.total_bill.plot(kind = 'hist', bins = 50)\n",
    "plt.title('total_bill')"
   ]
  },
  {
   "cell_type": "code",
   "execution_count": null,
   "metadata": {
    "collapsed": false
   },
   "outputs": [],
   "source": [
    "# 也可以用 hist() 來繪製直方圖\n",
    "tips.total_bill.hist(bins = 50)\n",
    "plt.title('total_bill')"
   ]
  },
  {
   "cell_type": "code",
   "execution_count": null,
   "metadata": {
    "collapsed": false
   },
   "outputs": [],
   "source": [
    "# tip比例 直方圖\n",
    "tip_ratios = (tips.tip / tips.total_bill)\n",
    "tip_ratios.hist(bins = 50)\n",
    "plt.title('tip ratio')"
   ]
  },
  {
   "cell_type": "markdown",
   "metadata": {},
   "source": [
    "### 散佈圖(scatter plot)"
   ]
  },
  {
   "cell_type": "code",
   "execution_count": null,
   "metadata": {
    "collapsed": false
   },
   "outputs": [],
   "source": [
    "macro = pd.read_csv('../data/macrodata.csv')\n",
    "macro[:5]"
   ]
  },
  {
   "cell_type": "code",
   "execution_count": null,
   "metadata": {
    "collapsed": false
   },
   "outputs": [],
   "source": [
    "data = macro[['cpi', 'm1', 'tbilrate', 'unemp']]\n",
    "data[:5]"
   ]
  },
  {
   "cell_type": "code",
   "execution_count": null,
   "metadata": {
    "collapsed": false
   },
   "outputs": [],
   "source": [
    "# diff(): 以上下元素的差異值填入\n",
    "trans_data = np.log(data).diff().dropna()\n",
    "trans_data[:5]"
   ]
  },
  {
   "cell_type": "code",
   "execution_count": null,
   "metadata": {
    "collapsed": false
   },
   "outputs": [],
   "source": [
    "# plt.scatter()可以繪製散佈圖，標示每一個資料row的 兩個columns的數據分布\n",
    "plt.scatter(trans_data.m1, trans_data.unemp)\n",
    "plt.title('Changes in log({0}) vs. log({1})'.format('m1', 'unemp'))"
   ]
  },
  {
   "cell_type": "code",
   "execution_count": null,
   "metadata": {
    "collapsed": false
   },
   "outputs": [],
   "source": [
    "trans_data.plot.scatter('m1', 'unemp')"
   ]
  },
  {
   "cell_type": "code",
   "execution_count": null,
   "metadata": {
    "collapsed": false
   },
   "outputs": [],
   "source": [
    "# pandas 提供了 scatter_matrix()函數，方便由DataFrame繪製散佈圖\n",
    "# 會自動的產生各個columns之間的 scatter diagram\n",
    "pd.scatter_matrix(trans_data, color = 'k', alpha = 0.3)"
   ]
  },
  {
   "cell_type": "code",
   "execution_count": null,
   "metadata": {
    "collapsed": true
   },
   "outputs": [],
   "source": []
  }
 ],
 "metadata": {
  "kernelspec": {
   "display_name": "Python 3",
   "language": "python",
   "name": "python3"
  },
  "language_info": {
   "codemirror_mode": {
    "name": "ipython",
    "version": 3
   },
   "file_extension": ".py",
   "mimetype": "text/x-python",
   "name": "python",
   "nbconvert_exporter": "python",
   "pygments_lexer": "ipython3",
   "version": "3.5.1"
  }
 },
 "nbformat": 4,
 "nbformat_minor": 0
}
